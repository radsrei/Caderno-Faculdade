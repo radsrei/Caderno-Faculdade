{
  "nbformat": 4,
  "nbformat_minor": 0,
  "metadata": {
    "colab": {
      "provenance": [],
      "authorship_tag": "ABX9TyO96TWmF5t/aBAfFh+Mwy2k",
      "include_colab_link": true
    },
    "kernelspec": {
      "name": "python3",
      "display_name": "Python 3"
    },
    "language_info": {
      "name": "python"
    }
  },
  "cells": [
    {
      "cell_type": "markdown",
      "metadata": {
        "id": "view-in-github",
        "colab_type": "text"
      },
      "source": [
        "<a href=\"https://colab.research.google.com/github/radsrei/Caderno-Faculdade/blob/main/DS_Catolica.ipynb\" target=\"_parent\"><img src=\"https://colab.research.google.com/assets/colab-badge.svg\" alt=\"Open In Colab\"/></a>"
      ]
    },
    {
      "cell_type": "markdown",
      "source": [
        "05/08 - Aula NumPy\n",
        "Utilizar Numpy para operações númericas eficientes, manipulação de arrays e fundamentos para Ciência de Dados"
      ],
      "metadata": {
        "id": "N_1qdGROwTFF"
      }
    },
    {
      "cell_type": "markdown",
      "source": [
        "#Parte1: Introdução"
      ],
      "metadata": {
        "id": "XaUVUTZSwuNb"
      }
    },
    {
      "cell_type": "code",
      "source": [
        "import numpy as np\n"
      ],
      "metadata": {
        "id": "4Oe708KdxGZP"
      },
      "execution_count": 2,
      "outputs": []
    },
    {
      "cell_type": "markdown",
      "source": [
        "###Listas"
      ],
      "metadata": {
        "id": "BGIEoh6DytYL"
      }
    },
    {
      "cell_type": "code",
      "source": [
        "#Array 1D com uma lista Python\n",
        "lista = [1,2,3,4,5]\n",
        "array_de_lista = np.array(lista)\n",
        "print(array_de_lista)\n",
        "print(array_de_lista.dtype)\n",
        "array_de_lista"
      ],
      "metadata": {
        "colab": {
          "base_uri": "https://localhost:8080/"
        },
        "id": "EzFtS0Dcyu23",
        "outputId": "7a11c429-0a21-42b5-c202-1a079ac6bd4c"
      },
      "execution_count": 5,
      "outputs": [
        {
          "output_type": "stream",
          "name": "stdout",
          "text": [
            "[1 2 3 4 5]\n",
            "int64\n"
          ]
        },
        {
          "output_type": "execute_result",
          "data": {
            "text/plain": [
              "array([1, 2, 3, 4, 5])"
            ]
          },
          "metadata": {},
          "execution_count": 5
        }
      ]
    },
    {
      "cell_type": "code",
      "source": [
        "#Array 2D com lista Python\n",
        "\n",
        "lista_de_listas = [[1,2,3],[4,5,6],[7,8,9]]\n",
        "array_de_listas = np.array(lista_de_listas)\n",
        "print(array_de_listas)\n",
        "array_de_listas"
      ],
      "metadata": {
        "id": "cqQQf3vx0OR_"
      },
      "execution_count": null,
      "outputs": []
    },
    {
      "cell_type": "code",
      "source": [
        "# com zero\n",
        "zero_ld = np.zeros(10)\n",
        "print(zero_ld)\n",
        "zero_ld"
      ],
      "metadata": {
        "colab": {
          "base_uri": "https://localhost:8080/"
        },
        "id": "uBrvYm171Wfj",
        "outputId": "a98febb9-37f1-413a-961b-92c0787ad5aa"
      },
      "execution_count": 8,
      "outputs": [
        {
          "output_type": "stream",
          "name": "stdout",
          "text": [
            "[0. 0. 0. 0. 0. 0. 0. 0. 0. 0.]\n"
          ]
        },
        {
          "output_type": "execute_result",
          "data": {
            "text/plain": [
              "array([0., 0., 0., 0., 0., 0., 0., 0., 0., 0.])"
            ]
          },
          "metadata": {},
          "execution_count": 8
        }
      ]
    },
    {
      "cell_type": "code",
      "source": [
        "# com uns\n",
        "ones_ld = np.ones(10)\n",
        "print(ones_ld)\n",
        "ones_ld"
      ],
      "metadata": {
        "id": "XNREHSgd3uR2"
      },
      "execution_count": null,
      "outputs": []
    },
    {
      "cell_type": "code",
      "source": [
        "# com vazia\n",
        "empty_ld = np.empty(10)\n",
        "print(empty_ld)\n",
        "empty_ld\n"
      ],
      "metadata": {
        "id": "XnSru9-g3wlk"
      },
      "execution_count": null,
      "outputs": []
    },
    {
      "cell_type": "code",
      "source": [
        "# shape é uma tupla\n",
        "zeros_2d = np.zeros((3,3))\n",
        "print(zeros_2d)\n",
        "zeros_2d"
      ],
      "metadata": {
        "id": "PjgV74Ha3x13"
      },
      "execution_count": null,
      "outputs": []
    },
    {
      "cell_type": "code",
      "source": [
        "# com valor especifico\n",
        "full_array = np.full((3,3), 7)\n",
        "print(full_array)\n",
        "full_array"
      ],
      "metadata": {
        "id": "wIDVxjHQ3z1m"
      },
      "execution_count": null,
      "outputs": []
    },
    {
      "cell_type": "markdown",
      "source": [
        "###Sequências Numérias"
      ],
      "metadata": {
        "id": "O-lAMm3O20Ve"
      }
    },
    {
      "cell_type": "code",
      "source": [
        "# np.arrange()\n",
        "\n",
        "seq_1 = np.arange(10)\n",
        "print(seq_1)"
      ],
      "metadata": {
        "colab": {
          "base_uri": "https://localhost:8080/"
        },
        "id": "q13GUkL823qL",
        "outputId": "aa060866-96a0-4da1-fd12-b0eb41055c17"
      },
      "execution_count": 7,
      "outputs": [
        {
          "output_type": "stream",
          "name": "stdout",
          "text": [
            "[0 1 2 3 4 5 6 7 8 9]\n",
            "[10 11 12 13 14 15 16 17 18 19]\n",
            "[10 12 14 16 18]\n"
          ]
        }
      ]
    },
    {
      "cell_type": "code",
      "source": [
        "#[start:stop:step]\n",
        "seq_2 = np.arange(0, 20, 2)\n",
        "print(seq_2)"
      ],
      "metadata": {
        "id": "VjmvDurd3VVu"
      },
      "execution_count": null,
      "outputs": []
    },
    {
      "cell_type": "code",
      "source": [
        "#[start:stop:num_elements]\n",
        "\n",
        "linspace_array = np.linspace(0, 10, 5)\n",
        "print(linspace_array)"
      ],
      "metadata": {
        "id": "ktZFEKt-36nh"
      },
      "execution_count": null,
      "outputs": []
    },
    {
      "cell_type": "code",
      "source": [
        "#np.random.rand()\n",
        "rand_array = np.random.rand(4)\n",
        "print(rand_array)"
      ],
      "metadata": {
        "colab": {
          "base_uri": "https://localhost:8080/"
        },
        "id": "xVoxQUDF4s8D",
        "outputId": "d746eab0-bd37-488a-e112-192fc8f147b5"
      },
      "execution_count": 9,
      "outputs": [
        {
          "output_type": "stream",
          "name": "stdout",
          "text": [
            "[0.63151745 0.67351601 0.54582258 0.58715149]\n"
          ]
        }
      ]
    },
    {
      "cell_type": "code",
      "source": [
        "# np.random.randint(): [low:high:size]\n",
        "randint_array = np.random.randint(0, 10, 5)\n",
        "print(randint_array)"
      ],
      "metadata": {
        "colab": {
          "base_uri": "https://localhost:8080/"
        },
        "id": "deqZFZXJ5ICc",
        "outputId": "b0eee2da-f400-44ec-ebd8-abafffe8b032"
      },
      "execution_count": 15,
      "outputs": [
        {
          "output_type": "stream",
          "name": "stdout",
          "text": [
            "[6 0 1 5 1]\n"
          ]
        }
      ]
    },
    {
      "cell_type": "markdown",
      "source": [],
      "metadata": {
        "id": "Mt6-Yyp5543h"
      }
    },
    {
      "cell_type": "markdown",
      "source": [
        "##Atributos importantes de um Array"
      ],
      "metadata": {
        "id": "obkfAy6x5zwu"
      }
    },
    {
      "cell_type": "code",
      "source": [
        "#dtype: tipo de dados dos elementos\n",
        "array_de_lista.dtype"
      ],
      "metadata": {
        "id": "bEx4K6ti53qk"
      },
      "execution_count": null,
      "outputs": []
    },
    {
      "cell_type": "code",
      "source": [
        "#astype: mudar o tipo de dados dos elementos\n",
        "rand_array_int = rand_array.astype(np.int64)\n",
        "rand_array_int"
      ],
      "metadata": {
        "colab": {
          "base_uri": "https://localhost:8080/"
        },
        "id": "7oijR0rt57hN",
        "outputId": "15b8278e-d527-424c-db96-d3a0341186e6"
      },
      "execution_count": 12,
      "outputs": [
        {
          "output_type": "execute_result",
          "data": {
            "text/plain": [
              "array([0, 0, 0, 0])"
            ]
          },
          "metadata": {},
          "execution_count": 12
        }
      ]
    },
    {
      "cell_type": "code",
      "source": [
        "#shape: dimensões da tabela\n",
        "randint_array.shape"
      ],
      "metadata": {
        "colab": {
          "base_uri": "https://localhost:8080/"
        },
        "id": "9q_EGaBE7Igm",
        "outputId": "4247d82d-7b45-48c2-a21d-1379b1a8462c"
      },
      "execution_count": 16,
      "outputs": [
        {
          "output_type": "execute_result",
          "data": {
            "text/plain": [
              "(5,)"
            ]
          },
          "metadata": {},
          "execution_count": 16
        }
      ]
    },
    {
      "cell_type": "code",
      "source": [
        "#ndim: numero de dimensões array\n",
        "rand_array.ndim"
      ],
      "metadata": {
        "colab": {
          "base_uri": "https://localhost:8080/"
        },
        "id": "8xlm8WLS7O_A",
        "outputId": "7e9beb9e-7b4c-4dad-cfd2-277a448ad6db"
      },
      "execution_count": 14,
      "outputs": [
        {
          "output_type": "execute_result",
          "data": {
            "text/plain": [
              "1"
            ]
          },
          "metadata": {},
          "execution_count": 14
        }
      ]
    },
    {
      "cell_type": "code",
      "source": [],
      "metadata": {
        "id": "QEOfhujH7Z46"
      },
      "execution_count": null,
      "outputs": []
    }
  ]
}