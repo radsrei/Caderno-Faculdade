{
  "nbformat": 4,
  "nbformat_minor": 0,
  "metadata": {
    "colab": {
      "provenance": [],
      "authorship_tag": "ABX9TyPiOuYPNrFqMa0G743KPZhr",
      "include_colab_link": true
    },
    "kernelspec": {
      "name": "python3",
      "display_name": "Python 3"
    },
    "language_info": {
      "name": "python"
    }
  },
  "cells": [
    {
      "cell_type": "markdown",
      "metadata": {
        "id": "view-in-github",
        "colab_type": "text"
      },
      "source": [
        "<a href=\"https://colab.research.google.com/github/radsrei/Caderno-Faculdade/blob/main/DS_Catolica.ipynb\" target=\"_parent\"><img src=\"https://colab.research.google.com/assets/colab-badge.svg\" alt=\"Open In Colab\"/></a>"
      ]
    },
    {
      "cell_type": "markdown",
      "source": [
        "05/08 - Aula NumPy\n",
        "Utilizar Numpy para operações númericas eficientes, manipulação de arrays e fundamentos para Ciência de Dados"
      ],
      "metadata": {
        "id": "N_1qdGROwTFF"
      }
    },
    {
      "cell_type": "markdown",
      "source": [
        "#Parte1: Introdução"
      ],
      "metadata": {
        "id": "XaUVUTZSwuNb"
      }
    },
    {
      "cell_type": "code",
      "source": [
        "import numpy as np\n"
      ],
      "metadata": {
        "id": "4Oe708KdxGZP"
      },
      "execution_count": 2,
      "outputs": []
    }
  ]
}